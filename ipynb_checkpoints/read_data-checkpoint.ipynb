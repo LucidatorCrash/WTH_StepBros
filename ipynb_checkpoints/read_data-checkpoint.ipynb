{
 "cells": [
  {
   "cell_type": "code",
   "execution_count": null,
   "id": "43e64967",
   "metadata": {},
   "outputs": [],
   "source": [
    "import os\n",
    "file_name = \"example.txt\"  # Replace with your file's name\n",
    "\n",
    "while(True):\n",
    "    try:\n",
    "        with open(file_name, 'r') as file:\n",
    "            content = file.read()  # Read the entire content as a string\n",
    "            # Alternatively, use content = file.readlines() to read line by line into a list\n",
    "\n",
    "        # Process the content (print it in this example)\n",
    "        print(content)\n",
    "\n",
    "    except FileNotFoundError:\n",
    "        print(f\"The file '{file_name}' was not found.\")\n",
    "    except Exception as e:\n",
    "        print(f\"An error occurred: {e}\")"
   ]
  }
 ],
 "metadata": {
  "kernelspec": {
   "display_name": "Python 3 (ipykernel)",
   "language": "python",
   "name": "python3"
  },
  "language_info": {
   "codemirror_mode": {
    "name": "ipython",
    "version": 3
   },
   "file_extension": ".py",
   "mimetype": "text/x-python",
   "name": "python",
   "nbconvert_exporter": "python",
   "pygments_lexer": "ipython3",
   "version": "3.10.9"
  }
 },
 "nbformat": 4,
 "nbformat_minor": 5
}
